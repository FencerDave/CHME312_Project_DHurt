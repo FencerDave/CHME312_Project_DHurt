{
 "cells": [
  {
   "cell_type": "markdown",
   "metadata": {},
   "source": [
    "# Modeling Heat Transfer into Sprayed Droplet\n",
    "## David Hurt - CHME 512 Presentation\n",
    "_________________________________________________\n",
    "### Overall Problem:\n",
    "The goal is to spray a slurry into fine droplets which dry in a hot, flowing airstream. \n",
    "(In reality, the slurry is an aqueous mixture of Carbons, TiO2, and soluble salts/sugars... For this problem, we will assume a uniform substance with no convective flow and conductivity k. )\n",
    "\n",
    "Several additional constraints/goals exist, which we must simplify away for this problem. We might add those 'complicating factors' in later, but for now this is how we start... \n",
    "- The actual goal is to dry the droplet, which would involve a condition where T remains at boiling point while consuming energy. \n",
    "- Drying ALSO would involve movement of the (now gaseous) vapor out of the droplet, and crystalizing of the soluble substances. Again, we'll ignore that for now, as that would change the conductivity over time.\n",
    "- We are assuming that the drying is a FAST process (process time in reality is less than 0.1 second), which may or may not be too fast depending on droplet size. \n",
    "\n",
    "For purposes of optimizing this process, we have the following objective: Heat the droplet such that for ALL T(r), $100^oC < T < 180^o C$. This will represent the condition that the entire particle is dried, but not hot enough to have the components begin to react! (In my spray dryer, sugars burn and $NH_4H_2PO_4$ decomposes above $180^o C$. "
   ]
  },
  {
   "cell_type": "markdown",
   "metadata": {},
   "source": [
    "### Boundary Conditions:\n",
    "At $r=0$ (Center Point Conditions):\n",
    "- $\\frac{dT}{dr}=0\\qquad \\qquad$: Spherical Symmetry Condition (?)(Double-check that this is always true...might not agree with dT/dt?)\n",
    "- $T_0=T_0(t)\\qquad$   : Center T is finite, and nonzero, and non-fixed. (Temperature Logic)\n",
    "\n",
    "At $r=R$ (Edge Conditions):\n",
    "- $\\rho C_p \\frac{dT}{dr}=Q_R=h(T_\\infty-T_R(t))\\qquad $ : Convective Heat Transfer Definition \n",
    "- $T_R=T_R(t)\\qquad$ : Center T is finite, and nonzero, and non-fixed. (Temperature Logic)\n",
    "\n",
    "At $t=0$ (Initial Conditions):\n",
    "- $T(r)\\approx T_0 \\qquad$ : All slurry starts at approximately room temperature... *NOTE: Don't strictly apply this boundary condition, as it results in a discontinuity. This is the situation where the PSEUDOSTEADY assumption breaks down, and can be separately solved/approximated as the time required to set up a very steep function which goes to zero 'Almost' instantly, but satisfies the other Boundary conditions.* In reality, the metal spray nozzle would also introduce some starting T-Profile that is not perfect.\n",
    "\n",
    "At $t=\\infty$ (Eventual Steady-State):\n",
    "- $T(r)=T_\\infty \\qquad$ : ALL Temperature eventually will be constant at $T_\\infty$. Note that this also satisfies both edge conditions because dT/dr is always zero, and the rate of heat transfer is also zero."
   ]
  },
  {
   "cell_type": "markdown",
   "metadata": {},
   "source": [
    "### Heat Balance + Solution Strategy:\n",
    "This should be solvable by continuously iterating over thin shells from r=R to r=0. For each interface (starting at the outside) the $Q_{IN}$ and $Q_{OUT}$can be calculated by the dT/dr derivitive times the thermal conductivity and the Surface area at that interface. \n",
    "$$ Q[Watts]= A_{Surface}[m^2] * k\\left[\\frac{Watts}{m *K}\\right] *\\frac{dT}{dr}\\left[\\frac{K}{m}\\right] $$\n",
    "\n",
    "For two surfaces separated by $\\Delta r$, the inner surface will have a smaller Area, and thus permit less heat transfer for a given dT/dr. (NOTE A Priori, that the inner surfaces should also have a lower dT/dr value *(I'm pretty sure?)*, which will make that effect more significant. The mass of the spherical shell $(\\rho V)$ will then absorb the difference in heat flux, and will heat up as according to the heat capacity. *Note: in the water case, would instead absorb as $\\Delta H_{vap}$ at 100C...*\n",
    "$$ Q= Q|_{IN} - Q|_{OUT} = V_{Shell}*\\rho*C_P\\frac{dT}{dt}$$"
   ]
  },
  {
   "cell_type": "code",
   "execution_count": null,
   "metadata": {},
   "outputs": [],
   "source": []
  }
 ],
 "metadata": {
  "kernelspec": {
   "display_name": "Python 3",
   "language": "python",
   "name": "python3"
  },
  "language_info": {
   "codemirror_mode": {
    "name": "ipython",
    "version": 3
   },
   "file_extension": ".py",
   "mimetype": "text/x-python",
   "name": "python",
   "nbconvert_exporter": "python",
   "pygments_lexer": "ipython3",
   "version": "3.7.0"
  }
 },
 "nbformat": 4,
 "nbformat_minor": 2
}
